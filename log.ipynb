{
 "cells": [
  {
   "cell_type": "code",
   "execution_count": null,
   "metadata": {},
   "outputs": [],
   "source": [
    "10.10\n",
    "\n",
    "Что делали:\n",
    "1. Вспоминали множество простых чисел и действия с ними:\n",
    "1) Сложение: закон переместительный и сочетательный\n",
    "2) Вычитание\n",
    "3) Умножение: закон сочетательный и дристибутивный(распредилительный)\n",
    "4) Деление: НоК, НоД\n",
    "5) Конъюнкция\n",
    "6) Обьединение, пересечение, принадлежновсть, вхождение\n",
    "7) Действия со степенями и корнями: выведение из под корня\n",
    "8) Функии: х-аргумент(при вызове), х-параметр(при объявлении)\n",
    "9) Отрезки: интервал и полуинтервал"
   ]
  },
  {
   "cell_type": "markdown",
   "metadata": {},
   "source": [
    "07.10\n",
    "\n",
    "1) Изучили функции на Pyton"
   ]
  }
 ],
 "metadata": {
  "kernelspec": {
   "display_name": "Python 3",
   "language": "python",
   "name": "python3"
  },
  "language_info": {
   "codemirror_mode": {
    "name": "ipython",
    "version": 3
   },
   "file_extension": ".py",
   "mimetype": "text/x-python",
   "name": "python",
   "nbconvert_exporter": "python",
   "pygments_lexer": "ipython3",
   "version": "3.12.0"
  },
  "orig_nbformat": 4,
  "vscode": {
   "interpreter": {
    "hash": "aee8b7b246df8f9039afb4144a1f6fd8d2ca17a180786b69acc140d282b71a49"
   }
  }
 },
 "nbformat": 4,
 "nbformat_minor": 2
}
